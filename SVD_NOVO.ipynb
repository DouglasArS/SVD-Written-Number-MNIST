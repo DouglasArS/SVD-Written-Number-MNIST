{
 "cells": [
  {
   "cell_type": "markdown",
   "metadata": {},
   "source": [
    "# Trabalho de Álgebra Linear - Compressão usando SVD e Reconhecimento de Imagens"
   ]
  },
  {
   "cell_type": "markdown",
   "metadata": {},
   "source": [
    "**Objetivo:**\n",
    "\n",
    "Realizar compressão de imagens através do método fatoração SVD (Singular Value Decomposition ou Decomposição em Valores Singulares), conseguindo escolher o nível de compressão desejada e, consequentemente analisar a influência desse método no reconhecimento de dígitos do Banco de Dados \"Written Numbers MNIST\".\n",
    "    \n",
    "---\n",
    "\n",
    "**Motivação:**\n",
    "\n",
    "A compressão de imagens tem como finalidade reduzir a quantidade de dados redundantes, conservando apenas as informações importantes que ajude na indentificação dos dígitos.\n",
    "    Existem duas classificações quanto a compressão de imagens: a compressão sem perda de dados e a compressão com perda de dados. \n",
    "    O método SVD se encaixa na segunda categoria que abrange problemas como:\n",
    "\n",
    "\n",
    "*   Velocidade de transmissão de dados via redes\n",
    "*   Reduzir imagens com qualidade acima do que o olho humano detecta (formato JPEG e GIF)\n",
    "*   Compressão de imagens de satélites\n",
    "*   Eliminação de ruídos\n",
    "\n",
    "    "
   ]
  },
  {
   "cell_type": "code",
   "execution_count": 1,
   "metadata": {},
   "outputs": [],
   "source": [
    "import gzip\n",
    "import numpy as np\n",
    "import matplotlib.pyplot as plt\n",
    "import timeit"
   ]
  },
  {
   "cell_type": "markdown",
   "metadata": {},
   "source": [
    "# Acessando Conjunto Treino:"
   ]
  },
  {
   "cell_type": "markdown",
   "metadata": {},
   "source": [
    "### Acessando os Labels do Conjunto Treino:"
   ]
  },
  {
   "cell_type": "code",
   "execution_count": 2,
   "metadata": {},
   "outputs": [
    {
     "name": "stdout",
     "output_type": "stream",
     "text": [
      "[5 0 4 1 9 2 1 3 1 4]\n"
     ]
    }
   ],
   "source": [
    "file_train_labels = gzip.open('train-labels-idx1-ubyte.gz','r')\n",
    "\n",
    "file_train_labels.read(8)\n",
    "\n",
    "buf_train_labels = file_train_labels.read(12000)\n",
    "\n",
    "data_train_labels = np.frombuffer(buf_train_labels, dtype=np.uint8).astype(np.int32)\n",
    "\n",
    "train_labels = data_train_labels\n",
    "\n",
    "# Print dos labels do Conjunto Treino\n",
    "print(train_labels[:10])"
   ]
  },
  {
   "cell_type": "markdown",
   "metadata": {},
   "source": [
    "### Acessando as Imagens do Conjunto Treino:"
   ]
  },
  {
   "cell_type": "code",
   "execution_count": 3,
   "metadata": {
    "scrolled": true
   },
   "outputs": [
    {
     "data": {
      "image/png": "[encoded data removed]",
      "text/plain": [
       "<Figure size 432x288 with 1 Axes>"
      ]
     },
     "metadata": {
      "needs_background": "light"
     },
     "output_type": "display_data"
    },
    {
     "name": "stdout",
     "output_type": "stream",
     "text": [
      "Foto 1\n",
      "\n"
     ]
    },
    {
     "data": {
      "image/png": "[encoded data removed]",
      "text/plain": [
       "<Figure size 432x288 with 1 Axes>"
      ]
     },
     "metadata": {
      "needs_background": "light"
     },
     "output_type": "display_data"
    },
    {
     "name": "stdout",
     "output_type": "stream",
     "text": [
      "Foto 2\n",
      "\n"
     ]
    },
    {
     "data": {
      "image/png": "[encoded data removed]",
      "text/plain": [
       "<Figure size 432x288 with 1 Axes>"
      ]
     },
     "metadata": {
      "needs_background": "light"
     },
     "output_type": "display_data"
    },
    {
     "name": "stdout",
     "output_type": "stream",
     "text": [
      "Foto 3\n",
      "\n"
     ]
    }
   ],
   "source": [
    "file_train_images = gzip.open('train-images-idx3-ubyte.gz','r')\n",
    "\n",
    "image_size = 28\n",
    "num_images_train = 12000\n",
    "\n",
    "file_train_images.read(16)\n",
    "\n",
    "buf_train_images = file_train_images.read(image_size * image_size * num_images_train)\n",
    "\n",
    "data_train_images = np.frombuffer(buf_train_images, dtype=np.uint8).astype(np.float32)\n",
    "data_train_images = data_train_images.reshape(num_images_train, image_size, image_size, 1)\n",
    "\n",
    "train_images = data_train_images\n",
    "\n",
    "# Plot das Imagens do Conjunto Treino\n",
    "for i in range(0, 3):\n",
    "    plt.imshow(np.asarray(data_train_images[i]).squeeze(), cmap='gray')\n",
    "    plt.show()\n",
    "    print(\"Foto {}\".format(i+1))\n",
    "    print()"
   ]
  },
  {
   "cell_type": "code",
   "execution_count": null,
   "metadata": {},
   "outputs": [],
   "source": []
  },
  {
   "cell_type": "markdown",
   "metadata": {},
   "source": [
    "# Acessando Conjunto Teste:"
   ]
  },
  {
   "cell_type": "markdown",
   "metadata": {},
   "source": [
    "### Acessando os Labels do Conjunto Teste:"
   ]
  },
  {
   "cell_type": "code",
   "execution_count": 4,
   "metadata": {},
   "outputs": [
    {
     "name": "stdout",
     "output_type": "stream",
     "text": [
      "[7 2 1 0 4 1 4 9 5 9]\n"
     ]
    }
   ],
   "source": [
    "file_test_labels = gzip.open('t10k-labels-idx1-ubyte.gz','r')\n",
    "\n",
    "file_test_labels.read(8)\n",
    "\n",
    "buf_test_labels = file_test_labels.read(2000)\n",
    "\n",
    "data_test_labels = np.frombuffer(buf_test_labels, dtype=np.uint8).astype(np.int32)\n",
    "\n",
    "test_labels = data_test_labels\n",
    "\n",
    "# Pritando os labels do Conjunto Teste\n",
    "print(test_labels[:10])"
   ]
  },
  {
   "cell_type": "markdown",
   "metadata": {},
   "source": [
    "### Acessando as Imagens do Conjunto Teste:"
   ]
  },
  {
   "cell_type": "code",
   "execution_count": 5,
   "metadata": {
    "scrolled": true
   },
   "outputs": [
    {
     "data": {
      "image/png": "[encoded data removed]",
      "text/plain": [
       "<Figure size 432x288 with 1 Axes>"
      ]
     },
     "metadata": {
      "needs_background": "light"
     },
     "output_type": "display_data"
    },
    {
     "name": "stdout",
     "output_type": "stream",
     "text": [
      "Foto 1\n",
      "\n"
     ]
    },
    {
     "data": {
      "image/png": "[encoded data removed]",
      "text/plain": [
       "<Figure size 432x288 with 1 Axes>"
      ]
     },
     "metadata": {
      "needs_background": "light"
     },
     "output_type": "display_data"
    },
    {
     "name": "stdout",
     "output_type": "stream",
     "text": [
      "Foto 2\n",
      "\n"
     ]
    },
    {
     "data": {
      "image/png": "[encoded data removed]",
      "text/plain": [
       "<Figure size 432x288 with 1 Axes>"
      ]
     },
     "metadata": {
      "needs_background": "light"
     },
     "output_type": "display_data"
    },
    {
     "name": "stdout",
     "output_type": "stream",
     "text": [
      "Foto 3\n",
      "\n"
     ]
    }
   ],
   "source": [
    "file_test_images = gzip.open('t10k-images-idx3-ubyte.gz','r')\n",
    "\n",
    "image_size = 28\n",
    "num_images_test = 2000\n",
    "\n",
    "file_test_images.read(16)\n",
    "\n",
    "buf_test_images = file_test_images.read(image_size * image_size * num_images_test)\n",
    "\n",
    "data_test_images = np.frombuffer(buf_test_images, dtype=np.uint8).astype(np.float32)\n",
    "data_test_images = data_test_images.reshape(num_images_test, image_size, image_size, 1)\n",
    "\n",
    "test_images = data_test_images\n",
    "\n",
    "for i in range(0, 3):\n",
    "    plt.imshow(np.asarray(data_test_images[i]).squeeze(), cmap='gray')\n",
    "    plt.show()\n",
    "    print(\"Foto {}\".format(i+1))\n",
    "    print()"
   ]
  },
  {
   "cell_type": "code",
   "execution_count": null,
   "metadata": {},
   "outputs": [],
   "source": []
  },
  {
   "cell_type": "markdown",
   "metadata": {},
   "source": [
    "# Tratamento das Imagens:"
   ]
  },
  {
   "cell_type": "markdown",
   "metadata": {},
   "source": [
    "### Tratando as imagens do Conjunto Treino:"
   ]
  },
  {
   "cell_type": "markdown",
   "metadata": {},
   "source": [
    "  Criando matriz de dados **Não-Centralizada** (**Matriz de imagens**):"
   ]
  },
  {
   "cell_type": "code",
   "execution_count": 6,
   "metadata": {
    "scrolled": true
   },
   "outputs": [
    {
     "name": "stdout",
     "output_type": "stream",
     "text": [
      "(12000, 784)\n"
     ]
    }
   ],
   "source": [
    "X_train = np.asarray(train_images).squeeze().reshape(num_images_train, 784)\n",
    "print(X_train.shape)"
   ]
  },
  {
   "cell_type": "markdown",
   "metadata": {},
   "source": [
    "Calculando media e centralizando dados:"
   ]
  },
  {
   "cell_type": "code",
   "execution_count": 7,
   "metadata": {},
   "outputs": [
    {
     "name": "stdout",
     "output_type": "stream",
     "text": [
      "(12000, 784)\n"
     ]
    }
   ],
   "source": [
    "train_mean = np.mean(X_train, axis = 0)\n",
    "\n",
    "X_train = (X_train - train_mean)\n",
    "print(X_train.shape)"
   ]
  },
  {
   "cell_type": "markdown",
   "metadata": {},
   "source": [
    "Calculando Decomposição de Valor Singular - SVD:"
   ]
  },
  {
   "cell_type": "code",
   "execution_count": 8,
   "metadata": {
    "scrolled": true
   },
   "outputs": [
    {
     "name": "stdout",
     "output_type": "stream",
     "text": [
      "U shape = (12000, 784) S length = (784,) Vt shape = (784, 784)\n",
      "Tempo de processamento:   1.90 s\n"
     ]
    }
   ],
   "source": [
    "start_time = timeit.default_timer()\n",
    "\n",
    "U_train, S_train, Vt_train = np.linalg.svd(X_train, full_matrices=False)\n",
    "V_train = Vt_train.T\n",
    "\n",
    "elapsed = timeit.default_timer() - start_time\n",
    "\n",
    "print('U shape =', np.shape(U_train), 'S length =', np.shape(S_train), 'Vt shape =', np.shape(Vt_train))\n",
    "print('Tempo de processamento: {:6.2f} s'.format(elapsed))"
   ]
  },
  {
   "cell_type": "markdown",
   "metadata": {},
   "source": [
    "Estabelecendo o número de autovalores a ser utilizado para remodelar a imagem:"
   ]
  },
  {
   "cell_type": "code",
   "execution_count": 9,
   "metadata": {},
   "outputs": [],
   "source": [
    "autovalor_num = 50  # 50 é a quantidade de autovalores com maior acuracia"
   ]
  },
  {
   "cell_type": "markdown",
   "metadata": {},
   "source": [
    "Redimensionalizando as Imagens e Projetando no Plano dos Autovetores:"
   ]
  },
  {
   "cell_type": "code",
   "execution_count": 10,
   "metadata": {},
   "outputs": [
    {
     "name": "stdout",
     "output_type": "stream",
     "text": [
      "(12000, 784)\n"
     ]
    }
   ],
   "source": [
    "Y_train = np.dot(U_train[:,:autovalor_num], np.diag(S_train)[:autovalor_num, :autovalor_num])\n",
    "X_train = np.dot(Y_train, Vt_train[:autovalor_num, :])\n",
    "print(X_train.shape)"
   ]
  },
  {
   "cell_type": "markdown",
   "metadata": {},
   "source": [
    "Retornando a media:"
   ]
  },
  {
   "cell_type": "code",
   "execution_count": 11,
   "metadata": {},
   "outputs": [
    {
     "name": "stdout",
     "output_type": "stream",
     "text": [
      "(12000, 784)\n"
     ]
    }
   ],
   "source": [
    "X_train = (X_train + train_mean)\n",
    "print(X_train.shape)"
   ]
  },
  {
   "cell_type": "markdown",
   "metadata": {},
   "source": [
    "Voltando ao formato imagem:"
   ]
  },
  {
   "cell_type": "code",
   "execution_count": 12,
   "metadata": {},
   "outputs": [
    {
     "name": "stdout",
     "output_type": "stream",
     "text": [
      "(784,)\n"
     ]
    }
   ],
   "source": [
    "train_image_plot = X_train[0] # Foi escolhido como exemplo a image[0], ou seja primeira imagem do Conjunto Treino\n",
    "print(train_image_plot.shape)"
   ]
  },
  {
   "cell_type": "code",
   "execution_count": 13,
   "metadata": {
    "scrolled": true
   },
   "outputs": [
    {
     "name": "stdout",
     "output_type": "stream",
     "text": [
      "(28, 28)\n"
     ]
    }
   ],
   "source": [
    "train_image_plot = train_image_plot.reshape((28, 28))\n",
    "print(train_image_plot.shape)"
   ]
  },
  {
   "cell_type": "markdown",
   "metadata": {},
   "source": [
    "Plot da imagem final (Exemplo):"
   ]
  },
  {
   "cell_type": "code",
   "execution_count": 14,
   "metadata": {},
   "outputs": [
    {
     "data": {
      "image/png": "[encoded data removed]",
      "text/plain": [
       "<Figure size 432x288 with 1 Axes>"
      ]
     },
     "metadata": {
      "needs_background": "light"
     },
     "output_type": "display_data"
    }
   ],
   "source": [
    "train_image_plot = np.asarray(train_image_plot)\n",
    "plt.imshow(train_image_plot, cmap='gray')\n",
    "plt.show()"
   ]
  },
  {
   "cell_type": "code",
   "execution_count": null,
   "metadata": {},
   "outputs": [],
   "source": []
  },
  {
   "cell_type": "markdown",
   "metadata": {},
   "source": [
    "### Tratando as imagens do Conjunto Teste:"
   ]
  },
  {
   "cell_type": "markdown",
   "metadata": {},
   "source": [
    "Criando matriz de dados **Não-Centralizada**:"
   ]
  },
  {
   "cell_type": "code",
   "execution_count": 15,
   "metadata": {
    "scrolled": true
   },
   "outputs": [
    {
     "name": "stdout",
     "output_type": "stream",
     "text": [
      "(2000, 784)\n"
     ]
    }
   ],
   "source": [
    "X_test = np.asarray(test_images).squeeze().reshape(num_images_test, 784)\n",
    "print(X_test.shape)"
   ]
  },
  {
   "cell_type": "code",
   "execution_count": null,
   "metadata": {},
   "outputs": [],
   "source": []
  },
  {
   "cell_type": "markdown",
   "metadata": {},
   "source": [
    "# Resultados:"
   ]
  },
  {
   "cell_type": "markdown",
   "metadata": {},
   "source": [
    "### Reconhecimento (Usando Distância Euclidiana):"
   ]
  },
  {
   "cell_type": "code",
   "execution_count": 16,
   "metadata": {},
   "outputs": [
    {
     "name": "stdout",
     "output_type": "stream",
     "text": [
      "Accuracy = 94.25% | 1885 successes | 50 autovalores\n",
      "Tempo de processamento: 195.89 s\n"
     ]
    }
   ],
   "source": [
    "start_time = timeit.default_timer()\n",
    "\n",
    "successes = 0\n",
    "\n",
    "for i in range(0, num_images_test):\n",
    "    \n",
    "    image_test_recognition = X_test[i].reshape((784, 1))\n",
    "    image_train_recognition = X_train[0].reshape((784, 1))\n",
    "    \n",
    "    aux_image = image_test_recognition - image_train_recognition\n",
    "    min_distance = np.linalg.norm(aux_image)\n",
    "    \n",
    "    index = 0\n",
    "    \n",
    "    for j in range(0, num_images_train):\n",
    "        \n",
    "        image_train_recognition = X_train[j].reshape((784, 1))\n",
    "        \n",
    "        aux_image = image_test_recognition - image_train_recognition\n",
    "        \n",
    "        if np.linalg.norm(aux_image) < min_distance:\n",
    "            min_distance = np.linalg.norm(aux_image)\n",
    "            index = j\n",
    "                \n",
    "    if test_labels[i] == train_labels[index]:\n",
    "        successes += 1\n",
    "    \n",
    "    min_distance = 0\n",
    "\n",
    "print(\"Accuracy = {:.2f}% | {} successes | {} autovalores\".format((successes/num_images_test)*100, successes, autovalor_num))\n",
    "\n",
    "elapsed = timeit.default_timer() - start_time\n",
    "print('Tempo de processamento: {:6.2f} s'.format(elapsed))"
   ]
  },
  {
   "cell_type": "code",
   "execution_count": null,
   "metadata": {},
   "outputs": [],
   "source": []
  },
  {
   "cell_type": "markdown",
   "metadata": {},
   "source": [
    "# Gráficos:"
   ]
  },
  {
   "cell_type": "markdown",
   "metadata": {},
   "source": [
    "### Gráfico da Acurácia X Número de Valores Singulares:"
   ]
  },
  {
   "cell_type": "code",
   "execution_count": 17,
   "metadata": {
    "scrolled": true
   },
   "outputs": [
    {
     "name": "stdout",
     "output_type": "stream",
     "text": [
      "Accuracy = 86.45% | 1729 successes | 10 autovalores\n",
      "Accuracy = 93.15% | 1863 successes | 20 autovalores\n",
      "Accuracy = 94.15% | 1883 successes | 30 autovalores\n",
      "Accuracy = 94.15% | 1883 successes | 40 autovalores\n",
      "Accuracy = 94.25% | 1885 successes | 50 autovalores\n",
      "Accuracy = 94.20% | 1884 successes | 60 autovalores\n",
      "Accuracy = 93.95% | 1879 successes | 70 autovalores\n",
      "Accuracy = 93.90% | 1878 successes | 80 autovalores\n",
      "Accuracy = 94.00% | 1880 successes | 90 autovalores\n",
      "Accuracy = 93.75% | 1875 successes | 100 autovalores\n",
      "Accuracy = 93.75% | 1875 successes | 110 autovalores\n",
      "Accuracy = 93.70% | 1874 successes | 120 autovalores\n",
      "Accuracy = 93.55% | 1871 successes | 130 autovalores\n",
      "Accuracy = 93.70% | 1874 successes | 140 autovalores\n",
      "Accuracy = 93.65% | 1873 successes | 150 autovalores\n",
      "Accuracy = 93.30% | 1866 successes | 160 autovalores\n",
      "Accuracy = 93.35% | 1867 successes | 170 autovalores\n",
      "Accuracy = 93.35% | 1867 successes | 180 autovalores\n",
      "Accuracy = 93.10% | 1862 successes | 190 autovalores\n",
      "Accuracy = 93.15% | 1863 successes | 200 autovalores\n",
      "Accuracy = 93.15% | 1863 successes | 210 autovalores\n",
      "Accuracy = 93.25% | 1865 successes | 220 autovalores\n",
      "Accuracy = 93.15% | 1863 successes | 230 autovalores\n",
      "Accuracy = 93.20% | 1864 successes | 240 autovalores\n",
      "Accuracy = 93.15% | 1863 successes | 250 autovalores\n",
      "Accuracy = 93.15% | 1863 successes | 260 autovalores\n",
      "Accuracy = 93.20% | 1864 successes | 270 autovalores\n",
      "Accuracy = 93.10% | 1862 successes | 280 autovalores\n",
      "Accuracy = 92.95% | 1859 successes | 290 autovalores\n",
      "Accuracy = 92.90% | 1858 successes | 300 autovalores\n",
      "Accuracy = 92.80% | 1856 successes | 310 autovalores\n",
      "Accuracy = 92.80% | 1856 successes | 320 autovalores\n",
      "Accuracy = 92.75% | 1855 successes | 330 autovalores\n",
      "Accuracy = 92.80% | 1856 successes | 340 autovalores\n",
      "Accuracy = 92.75% | 1855 successes | 350 autovalores\n",
      "Accuracy = 92.70% | 1854 successes | 360 autovalores\n",
      "Accuracy = 92.70% | 1854 successes | 370 autovalores\n",
      "Accuracy = 92.65% | 1853 successes | 380 autovalores\n",
      "Accuracy = 92.65% | 1853 successes | 390 autovalores\n",
      "Accuracy = 92.70% | 1854 successes | 400 autovalores\n",
      "Accuracy = 92.70% | 1854 successes | 410 autovalores\n",
      "Accuracy = 92.65% | 1853 successes | 420 autovalores\n",
      "Accuracy = 92.70% | 1854 successes | 430 autovalores\n",
      "Accuracy = 92.70% | 1854 successes | 440 autovalores\n",
      "Accuracy = 92.70% | 1854 successes | 450 autovalores\n",
      "Accuracy = 92.70% | 1854 successes | 460 autovalores\n",
      "Accuracy = 92.70% | 1854 successes | 470 autovalores\n",
      "Accuracy = 92.70% | 1854 successes | 480 autovalores\n",
      "Accuracy = 92.70% | 1854 successes | 490 autovalores\n",
      "Accuracy = 92.70% | 1854 successes | 500 autovalores\n",
      "Accuracy = 92.70% | 1854 successes | 510 autovalores\n",
      "Accuracy = 92.70% | 1854 successes | 520 autovalores\n",
      "Accuracy = 92.70% | 1854 successes | 530 autovalores\n",
      "Accuracy = 92.70% | 1854 successes | 540 autovalores\n",
      "Accuracy = 92.70% | 1854 successes | 550 autovalores\n",
      "Accuracy = 92.70% | 1854 successes | 560 autovalores\n",
      "Accuracy = 92.70% | 1854 successes | 570 autovalores\n",
      "Accuracy = 92.70% | 1854 successes | 580 autovalores\n",
      "Accuracy = 92.70% | 1854 successes | 590 autovalores\n",
      "Accuracy = 92.70% | 1854 successes | 600 autovalores\n",
      "Accuracy = 92.70% | 1854 successes | 610 autovalores\n",
      "Accuracy = 92.70% | 1854 successes | 620 autovalores\n",
      "Accuracy = 92.70% | 1854 successes | 630 autovalores\n",
      "Accuracy = 92.70% | 1854 successes | 640 autovalores\n",
      "Accuracy = 92.70% | 1854 successes | 650 autovalores\n",
      "Accuracy = 92.70% | 1854 successes | 660 autovalores\n",
      "Accuracy = 92.70% | 1854 successes | 670 autovalores\n",
      "Accuracy = 92.70% | 1854 successes | 680 autovalores\n",
      "Accuracy = 92.70% | 1854 successes | 690 autovalores\n",
      "Accuracy = 92.70% | 1854 successes | 700 autovalores\n",
      "Accuracy = 92.70% | 1854 successes | 710 autovalores\n",
      "Accuracy = 92.70% | 1854 successes | 720 autovalores\n",
      "Accuracy = 92.70% | 1854 successes | 730 autovalores\n",
      "Accuracy = 92.70% | 1854 successes | 740 autovalores\n",
      "Accuracy = 92.70% | 1854 successes | 750 autovalores\n",
      "Accuracy = 92.70% | 1854 successes | 760 autovalores\n",
      "Accuracy = 92.70% | 1854 successes | 770 autovalores\n",
      "Accuracy = 92.70% | 1854 successes | 780 autovalores\n",
      "\n",
      "Tempo de processamento: 15732.10 s\n"
     ]
    }
   ],
   "source": [
    "start_time = timeit.default_timer()\n",
    "\n",
    "list_accuracy = []\n",
    "\n",
    "for num_autovalor in range(10, 784, 10):\n",
    "    \n",
    "    # Criando a Matriz Final\n",
    "    Y_train = np.dot(U_train[:,:num_autovalor], np.diag(S_train)[:num_autovalor, :num_autovalor])\n",
    "    X_train = np.dot(Y_train, Vt_train[:num_autovalor, :])\n",
    "    \n",
    "    # Retonando a media\n",
    "    X_train = (X_train + train_mean)\n",
    "    \n",
    "    successes = 0\n",
    "\n",
    "    for i in range(0, num_images_test):\n",
    "\n",
    "        image_test_recognition = X_test[i].reshape((784, 1))\n",
    "        image_train_recognition = X_train[0].reshape((784, 1))\n",
    "\n",
    "        aux_image = image_test_recognition - image_train_recognition\n",
    "        min_distance = np.linalg.norm(aux_image)\n",
    "\n",
    "        index = 0\n",
    "\n",
    "        for j in range(0, num_images_train):\n",
    "\n",
    "            image_train_recognition = X_train[j].reshape((784, 1))\n",
    "\n",
    "            aux_image = image_test_recognition - image_train_recognition\n",
    "\n",
    "            if np.linalg.norm(aux_image) < min_distance:\n",
    "                min_distance = np.linalg.norm(aux_image)\n",
    "                index = j\n",
    "\n",
    "        if test_labels[i] == train_labels[index]:\n",
    "            successes += 1\n",
    "\n",
    "        min_distance = 0\n",
    "    \n",
    "    accuracy = (successes/num_images_test)*100\n",
    "    list_accuracy.append(accuracy)\n",
    "    \n",
    "    print(\"Accuracy = {:.2f}% | {} successes | {} autovalores\".format(accuracy, successes, num_autovalor))\n",
    "\n",
    "elapsed = timeit.default_timer() - start_time\n",
    "print('\\nTempo de processamento: {:6.2f} s'.format(elapsed))"
   ]
  },
  {
   "cell_type": "code",
   "execution_count": 18,
   "metadata": {},
   "outputs": [
    {
     "data": {
      "image/png": "[encoded data removed]",
      "text/plain": [
       "<Figure size 432x288 with 1 Axes>"
      ]
     },
     "metadata": {
      "needs_background": "light"
     },
     "output_type": "display_data"
    }
   ],
   "source": [
    "plt.plot(np.arange(10, 784, 10), list_accuracy)\n",
    "plt.xlabel('Número de Valores Singulares')\n",
    "plt.ylabel('Acurácia %')\n",
    "plt.axis([0, 800, 80, 100])\n",
    "plt.show()"
   ]
  },
  {
   "cell_type": "markdown",
   "metadata": {},
   "source": [
    "Dando um zoom:"
   ]
  },
  {
   "cell_type": "code",
   "execution_count": 19,
   "metadata": {},
   "outputs": [
    {
     "data": {
      "image/png": "[encoded data removed]",
      "text/plain": [
       "<Figure size 432x288 with 1 Axes>"
      ]
     },
     "metadata": {
      "needs_background": "light"
     },
     "output_type": "display_data"
    }
   ],
   "source": [
    "plt.plot(np.arange(10, 784, 10), list_accuracy)\n",
    "plt.xlabel('Número de Valores Singulares')\n",
    "plt.ylabel('Acurácia %')\n",
    "plt.axis([0, 500, 85, 95])\n",
    "plt.show()"
   ]
  },
  {
   "cell_type": "markdown",
   "metadata": {},
   "source": [
    "### Gráfico da Acurácia X Gráfico da Variabilidade Acumulada:"
   ]
  },
  {
   "cell_type": "code",
   "execution_count": null,
   "metadata": {},
   "outputs": [],
   "source": []
  },
  {
   "cell_type": "markdown",
   "metadata": {},
   "source": [
    "### Gráfico da Variabilidade Acumulada X Número de Valores Singulares:"
   ]
  },
  {
   "cell_type": "code",
   "execution_count": 21,
   "metadata": {},
   "outputs": [
    {
     "data": {
      "image/png": "[encoded data removed]",
      "text/plain": [
       "<Figure size 432x288 with 1 Axes>"
      ]
     },
     "metadata": {
      "needs_background": "light"
     },
     "output_type": "display_data"
    }
   ],
   "source": [
    "total_var_train = np.sum(S_train**2)\n",
    "y_plot = np.cumsum(S_train**2) / total_var_train\n",
    "x_plot = np.array(range(len(S_train)))\n",
    "\n",
    "plt.plot(x_plot, y_plot*100)\n",
    "plt.xlabel('Acurácia %')\n",
    "plt.ylabel('Variabilidade Acumulada %')\n",
    "plt.show()"
   ]
  },
  {
   "cell_type": "code",
   "execution_count": null,
   "metadata": {},
   "outputs": [],
   "source": []
  }
 ],
 "metadata": {
  "kernelspec": {
   "display_name": "Python 3",
   "language": "python",
   "name": "python3"
  },
  "language_info": {
   "codemirror_mode": {
    "name": "ipython",
    "version": 3
   },
   "file_extension": ".py",
   "mimetype": "text/x-python",
   "name": "python",
   "nbconvert_exporter": "python",
   "pygments_lexer": "ipython3",
   "version": "3.8.5"
  }
 },
 "nbformat": 4,
 "nbformat_minor": 4
}
